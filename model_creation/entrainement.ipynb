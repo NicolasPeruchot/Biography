{
 "metadata": {
  "language_info": {
   "codemirror_mode": {
    "name": "ipython",
    "version": 3
   },
   "file_extension": ".py",
   "mimetype": "text/x-python",
   "name": "python",
   "nbconvert_exporter": "python",
   "pygments_lexer": "ipython3",
   "version": "3.8.10"
  },
  "orig_nbformat": 4,
  "kernelspec": {
   "name": "python3",
   "display_name": "Python 3.8.10 64-bit ('venv': venv)"
  },
  "interpreter": {
   "hash": "cc0aa35067407a9ad921f707db2afe276d86013966be43ca5de1bca1e9dafe5b"
  }
 },
 "nbformat": 4,
 "nbformat_minor": 2,
 "cells": [
  {
   "cell_type": "code",
   "execution_count": 1,
   "metadata": {},
   "outputs": [
    {
     "output_type": "stream",
     "name": "stderr",
     "text": [
      "2021-07-13 00:03:39.582081: W tensorflow/stream_executor/platform/default/dso_loader.cc:64] Could not load dynamic library 'libcudart.so.11.0'; dlerror: libcudart.so.11.0: cannot open shared object file: No such file or directory\n2021-07-13 00:03:39.582309: I tensorflow/stream_executor/cuda/cudart_stub.cc:29] Ignore above cudart dlerror if you do not have a GPU set up on your machine.\n"
     ]
    }
   ],
   "source": [
    "import pandas as pd\n",
    "import numpy as np\n",
    "import math\n",
    "import tensorflow as tf\n",
    "from sklearn.utils import shuffle\n",
    "from transformers import T5TokenizerFast, TFT5ForConditionalGeneration\n",
    "from progressbar import progressbar as pb\n"
   ]
  },
  {
   "cell_type": "code",
   "execution_count": 3,
   "metadata": {},
   "outputs": [],
   "source": [
    "data = pd.read_csv('new_dataset.csv',index_col=0)\n",
    "data=data[['txt','PERSON','NORP','JOB','JOB1','GPE','ORG','TENSE']]\n",
    "data['TENSE'] = np.where((data['TENSE'] == 'was'),'PAST','PRESENT')\n",
    "data=shuffle(data)\n",
    "\n",
    "n = 1000\n",
    "df_train = data.iloc[:n,1:]\n",
    "df_label = data.iloc[:n,0:1]\n"
   ]
  },
  {
   "cell_type": "code",
   "execution_count": 8,
   "metadata": {},
   "outputs": [
    {
     "output_type": "stream",
     "name": "stderr",
     "text": [
      "All model checkpoint layers were used when initializing TFT5ForConditionalGeneration.\n",
      "\n",
      "All the layers of TFT5ForConditionalGeneration were initialized from the model checkpoint at t5-small.\n",
      "If your task is similar to the task the model of the checkpoint was trained on, you can already use TFT5ForConditionalGeneration for predictions without further training.\n"
     ]
    }
   ],
   "source": [
    "model = TFT5ForConditionalGeneration.from_pretrained(\"t5-small\")\n",
    "tokenizer = T5TokenizerFast.from_pretrained(\"t5-small\")\n",
    "optimizer = tf.keras.optimizers.Adam()"
   ]
  },
  {
   "cell_type": "code",
   "execution_count": 9,
   "metadata": {},
   "outputs": [],
   "source": [
    "batch_size=32\n",
    "num_of_batches=math.floor(len(df_train)/batch_size)"
   ]
  },
  {
   "cell_type": "code",
   "execution_count": 10,
   "metadata": {},
   "outputs": [],
   "source": [
    "label=[df_label.values[i][0] for i in range (len(df_label))]\n",
    "label_encoded=tokenizer.batch_encode_plus(label,padding=True,max_length=900,return_tensors='tf')[\"input_ids\"]\n",
    "\n",
    "inputbatch=['|'.join(df_train.iloc[i].dropna().values.tolist()) for i in range (len(df_train))]\n",
    "input_encoded=tokenizer.batch_encode_plus(inputbatch,padding=True,max_length=900,return_tensors='tf')[\"input_ids\"]"
   ]
  },
  {
   "cell_type": "code",
   "execution_count": 11,
   "metadata": {},
   "outputs": [
    {
     "output_type": "stream",
     "name": "stderr",
     "text": [
      "100% (31 of 31) |########################| Elapsed Time: 0:06:13 Time:  0:06:13\n"
     ]
    },
    {
     "output_type": "error",
     "ename": "NameError",
     "evalue": "name 'train_loss' is not defined",
     "traceback": [
      "\u001b[0;31m---------------------------------------------------------------------------\u001b[0m",
      "\u001b[0;31mNameError\u001b[0m                                 Traceback (most recent call last)",
      "\u001b[0;32m/tmp/ipykernel_1258/3232036074.py\u001b[0m in \u001b[0;36m<module>\u001b[0;34m\u001b[0m\n\u001b[1;32m     18\u001b[0m         \u001b[0mgradients\u001b[0m \u001b[0;34m=\u001b[0m \u001b[0mtape\u001b[0m\u001b[0;34m.\u001b[0m\u001b[0mgradient\u001b[0m\u001b[0;34m(\u001b[0m\u001b[0mloss_value\u001b[0m\u001b[0;34m,\u001b[0m \u001b[0mmodel\u001b[0m\u001b[0;34m.\u001b[0m\u001b[0mtrainable_weights\u001b[0m\u001b[0;34m)\u001b[0m\u001b[0;34m\u001b[0m\u001b[0;34m\u001b[0m\u001b[0m\n\u001b[1;32m     19\u001b[0m         \u001b[0moptimizer\u001b[0m\u001b[0;34m.\u001b[0m\u001b[0mapply_gradients\u001b[0m\u001b[0;34m(\u001b[0m\u001b[0mzip\u001b[0m\u001b[0;34m(\u001b[0m\u001b[0mgradients\u001b[0m\u001b[0;34m,\u001b[0m \u001b[0mmodel\u001b[0m\u001b[0;34m.\u001b[0m\u001b[0mtrainable_weights\u001b[0m\u001b[0;34m)\u001b[0m\u001b[0;34m)\u001b[0m\u001b[0;34m\u001b[0m\u001b[0;34m\u001b[0m\u001b[0m\n\u001b[0;32m---> 20\u001b[0;31m     \u001b[0mtrain_loss\u001b[0m\u001b[0;34m.\u001b[0m\u001b[0mappend\u001b[0m\u001b[0;34m(\u001b[0m\u001b[0mrunning_loss\u001b[0m\u001b[0;34m)\u001b[0m\u001b[0;34m\u001b[0m\u001b[0;34m\u001b[0m\u001b[0m\n\u001b[0m\u001b[1;32m     21\u001b[0m \u001b[0;34m\u001b[0m\u001b[0m\n",
      "\u001b[0;31mNameError\u001b[0m: name 'train_loss' is not defined"
     ]
    }
   ],
   "source": [
    "epoch=1\n",
    "for k in range(epoch):\n",
    "\n",
    "    running_loss=0\n",
    "    \n",
    "    \n",
    "    for i in pb(range(num_of_batches)):\n",
    "        input=input_encoded[i*batch_size:i*batch_size+batch_size]\n",
    "        output=label_encoded[i*batch_size:i*batch_size+batch_size]\n",
    "        \n",
    "        #Entrainement sur le batch\n",
    "        with tf.GradientTape() as tape:\n",
    "            outputs = model(input_ids=input, labels=output)\n",
    "            # Compute the loss value for this batch.\n",
    "            loss_value = sum(outputs.loss)/len(outputs.loss)\n",
    "            running_loss+=loss_value\n",
    "        # Actualisation des poids\n",
    "        gradients = tape.gradient(loss_value, model.trainable_weights)\n",
    "        optimizer.apply_gradients(zip(gradients, model.trainable_weights))\n",
    "\n"
   ]
  },
  {
   "cell_type": "code",
   "execution_count": 15,
   "metadata": {},
   "outputs": [
    {
     "output_type": "stream",
     "name": "stdout",
     "text": [
      "Luca Crecco|Italian|footballer|Pescara|PRESENT\n",
      "Luca Crecco is an Italian footballer who plays as a midfielder\n",
      "Luca Crecco is an Italian footballer who plays as a left winger for Pescara\n"
     ]
    }
   ],
   "source": [
    "val='|'.join(data.iloc[i,1:].dropna().values.tolist())\n",
    "tok=tokenizer(val, return_tensors=\"tf\").input_ids\n",
    "print(val)\n",
    "outputs = model.generate(tok)\n",
    "outputs1=tokenizer.decode(outputs[0]).replace('<pad> ','').replace('</s>',\"\")\n",
    "print(outputs1)\n",
    "print(data.iloc[i,0])"
   ]
  }
 ]
}