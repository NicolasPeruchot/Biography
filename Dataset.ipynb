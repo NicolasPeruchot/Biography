{
 "metadata": {
  "language_info": {
   "codemirror_mode": {
    "name": "ipython",
    "version": 3
   },
   "file_extension": ".py",
   "mimetype": "text/x-python",
   "name": "python",
   "nbconvert_exporter": "python",
   "pygments_lexer": "ipython3",
   "version": "3.7.3"
  },
  "orig_nbformat": 2,
  "kernelspec": {
   "name": "python373jvsc74a57bd02c389fa4cf50b850ad874e3b9b3165a376e69045109ccdeae25cb1aa36938185",
   "display_name": "Python 3.7.3 64-bit (conda)"
  },
  "metadata": {
   "interpreter": {
    "hash": "ca3246a3c8e83b87b3df0b73736644c8280d5b382a6c9272defde1b8977a365a"
   }
  }
 },
 "nbformat": 4,
 "nbformat_minor": 2,
 "cells": [
  {
   "cell_type": "code",
   "execution_count": 10,
   "metadata": {},
   "outputs": [],
   "source": [
    "import pandas as pd\n",
    "import spacy\n",
    "nlp=spacy.load('en_core_web_sm')"
   ]
  },
  {
   "cell_type": "code",
   "execution_count": 13,
   "metadata": {},
   "outputs": [],
   "source": [
    "data=pd.read_csv('dataframe_true_final.csv')\n",
    "text=data['txt']\n",
    "data=data.drop(columns=['Unnamed: 0','txt','id'])\n",
    "text=text.str.replace(\"'\",\"\",regex=False)\n",
    "text=text.str.replace(\"]\",\"\",regex=False)\n",
    "text=text.str.replace(\"[\",\"\",regex=False)\n",
    "text=text.str.replace(\",\",\"\",regex=False)\n",
    "text=text.str.replace(\"A \",\"a \",regex=False)\n",
    "text=text.str.replace(\"And\",\"and\",regex=False)"
   ]
  },
  {
   "cell_type": "code",
   "execution_count": 15,
   "metadata": {},
   "outputs": [],
   "source": [
    "newdata=pd.DataFrame(index=text.index, columns=['PERSON','NORP','GPE','ORG'])\n",
    "\n",
    "for i in range (2000):\n",
    "  doc=nlp(text[i])\n",
    "  for col in newdata.columns:\n",
    "    for ent in doc.ents:\n",
    "      if ent.label_==col and newdata.iloc[i][col]!=newdata.iloc[i][col]:\n",
    "        newdata.loc[i][col]=ent.text\n",
    "\n"
   ]
  }
 ]
}