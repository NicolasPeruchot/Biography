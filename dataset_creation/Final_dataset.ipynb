{
 "cells": [
  {
   "cell_type": "code",
   "execution_count": 1,
   "source": [
    "import pandas as pd\n",
    "import numpy as np"
   ],
   "outputs": [],
   "metadata": {}
  },
  {
   "cell_type": "code",
   "execution_count": 2,
   "source": [
    "data=pd.read_csv(\"new_dataset.csv\").drop(columns='Unnamed: 0')"
   ],
   "outputs": [],
   "metadata": {}
  },
  {
   "cell_type": "code",
   "execution_count": 3,
   "source": [
    "\n",
    "data.JOB=data.JOB+' '+data.JOB1.replace({np.nan:''})\n",
    "data.JOB=data.JOB.str.rstrip()\n",
    "data=data.replace({np.nan:'XXX'}).drop(columns=['JOB1'])\n",
    "name_duplication=set()\n",
    "for i in range (len(data)):\n",
    "    if data.ORG.iloc[i] in data.PERSON.iloc[i] or data.GPE.iloc[i] in data.PERSON.iloc[i]:\n",
    "        name_duplication.add(i)\n",
    "data=data.drop(index=name_duplication)\n",
    "\n",
    "data=data[data.JOB!='XXX']\n",
    "data=data[data.PERSON!='XXX']\n",
    "data=data[data.TENSE!='XXX']"
   ],
   "outputs": [],
   "metadata": {}
  },
  {
   "cell_type": "code",
   "execution_count": 4,
   "source": [
    "data=data[data.txt.str.len()<10000]"
   ],
   "outputs": [],
   "metadata": {}
  },
  {
   "cell_type": "code",
   "execution_count": 5,
   "source": [
    "for x in ['NORP','GPE','ORG']:\n",
    "    vide=sum(data[x]=='XXX')\n",
    "    print(f'Vides: {vide} pour la colonne {x}')\n",
    "deux=len(data[(data.GPE=='XXX')&(data.ORG=='XXX')])\n",
    "org=len(data[(data.GPE!='XXX')&(data.ORG=='XXX')])\n",
    "gpe=len(data[(data.GPE=='XXX')&(data.ORG!='XXX')])\n",
    "print(f\"Les deux vides: {deux}\")\n",
    "print(f\"Seulement org: {org}\")\n",
    "print(f\"Seulement gpe: {gpe}\")"
   ],
   "outputs": [
    {
     "output_type": "stream",
     "name": "stdout",
     "text": [
      "Vides: 70888 pour la colonne NORP\n",
      "Vides: 242503 pour la colonne GPE\n",
      "Vides: 222312 pour la colonne ORG\n",
      "Les deux vides: 185773\n",
      "Seulement org: 36539\n",
      "Seulement gpe: 56730\n"
     ]
    }
   ],
   "metadata": {}
  },
  {
   "cell_type": "code",
   "execution_count": 6,
   "source": [
    "data=data.replace({'XXX':''})"
   ],
   "outputs": [],
   "metadata": {}
  },
  {
   "cell_type": "code",
   "execution_count": 7,
   "source": [
    "data=data[(data.GPE=='')|(data.ORG=='')]\n",
    "data.ORG=data.ORG+data.GPE\n",
    "data=data.drop(columns='GPE')"
   ],
   "outputs": [],
   "metadata": {}
  },
  {
   "cell_type": "code",
   "execution_count": 9,
   "source": [
    "data.to_csv('final.csv')"
   ],
   "outputs": [],
   "metadata": {}
  }
 ],
 "metadata": {
  "orig_nbformat": 4,
  "language_info": {
   "name": "python",
   "version": "3.8.10",
   "mimetype": "text/x-python",
   "codemirror_mode": {
    "name": "ipython",
    "version": 3
   },
   "pygments_lexer": "ipython3",
   "nbconvert_exporter": "python",
   "file_extension": ".py"
  },
  "kernelspec": {
   "name": "python3",
   "display_name": "Python 3.8.10 64-bit ('venv': venv)"
  },
  "interpreter": {
   "hash": "c88a35e465b325a4868a83a019894d34a5393f3a0b841abdb6ae197bdcab3f20"
  }
 },
 "nbformat": 4,
 "nbformat_minor": 2
}